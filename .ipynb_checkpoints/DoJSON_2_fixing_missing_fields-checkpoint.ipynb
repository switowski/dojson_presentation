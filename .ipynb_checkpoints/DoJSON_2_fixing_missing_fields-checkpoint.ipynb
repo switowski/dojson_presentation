{
 "metadata": {
  "name": "",
  "signature": "sha256:62a55aa3089c214adbb2eb9e1b32f9b901c4b7060458b537eb5fc149409d04ae"
 },
 "nbformat": 3,
 "nbformat_minor": 0,
 "worksheets": [
  {
   "cells": [
    {
     "cell_type": "heading",
     "level": 2,
     "metadata": {},
     "source": [
      "How to add missing mapping (ad hoc)"
     ]
    },
    {
     "cell_type": "code",
     "collapsed": false,
     "input": [
      "from dojson.contrib.marc21.utils import create_record, split_blob\n",
      "from dojson.contrib.marc21 import marc21\n",
      "\n",
      "blob = split_blob(open('single_record.xml', 'r').read())\n",
      "\n",
      "#split_blob returns a generator\n",
      "record = create_record(blob.next())\n",
      "\n",
      "marc21.missing(record)"
     ],
     "language": "python",
     "metadata": {},
     "outputs": [
      {
       "metadata": {},
       "output_type": "pyout",
       "prompt_number": 1,
       "text": [
        "[u'695__', u'960__', u'595__', u'269__', u'690C_', u'916__']"
       ]
      }
     ],
     "prompt_number": 1
    },
    {
     "cell_type": "markdown",
     "metadata": {},
     "source": [
      "Let's store the JSON to compare it later"
     ]
    },
    {
     "cell_type": "code",
     "collapsed": false,
     "input": [
      "json_without_960 = marc21.do(record)"
     ],
     "language": "python",
     "metadata": {},
     "outputs": [],
     "prompt_number": 2
    },
    {
     "cell_type": "heading",
     "level": 3,
     "metadata": {},
     "source": [
      "We can define our mapping right inside the IPython console:"
     ]
    },
    {
     "cell_type": "code",
     "collapsed": false,
     "input": [
      "from dojson import utils\n",
      "from dojson.contrib.marc21 import marc21\n",
      "\n",
      "@marc21.over('base', '^960__')\n",
      "# We use for_each_value decorator, because 960 is a repeatable field\n",
      "@utils.for_each_value\n",
      "def base(self, key, value):\n",
      "    \"\"\"Base.\"\"\"\n",
      "    return value.get('a')"
     ],
     "language": "python",
     "metadata": {},
     "outputs": [],
     "prompt_number": 3
    },
    {
     "cell_type": "code",
     "collapsed": false,
     "input": [
      "marc21.missing(record)"
     ],
     "language": "python",
     "metadata": {},
     "outputs": [
      {
       "metadata": {},
       "output_type": "pyout",
       "prompt_number": 4,
       "text": [
        "[u'695__', u'595__', u'269__', u'690C_', u'916__']"
       ]
      }
     ],
     "prompt_number": 4
    },
    {
     "cell_type": "code",
     "collapsed": false,
     "input": [
      "json_with_960 = marc21.do(record)"
     ],
     "language": "python",
     "metadata": {},
     "outputs": [],
     "prompt_number": 5
    },
    {
     "cell_type": "code",
     "collapsed": false,
     "input": [
      "set(json_with_960.keys()) - set(json_without_960.keys())"
     ],
     "language": "python",
     "metadata": {},
     "outputs": [
      {
       "metadata": {},
       "output_type": "pyout",
       "prompt_number": 6,
       "text": [
        "{'base'}"
       ]
      }
     ],
     "prompt_number": 6
    },
    {
     "cell_type": "code",
     "collapsed": false,
     "input": [
      "marc21.do(record)"
     ],
     "language": "python",
     "metadata": {},
     "outputs": [
      {
       "metadata": {},
       "output_type": "pyout",
       "prompt_number": 7,
       "text": [
        "{'added_entry_personal_name': [{'personal_name': 'Ferroglia, Andrea'},\n",
        "  {'personal_name': 'Pecjak, Ben D'},\n",
        "  {'personal_name': 'Signer, Adrian'},\n",
        "  {'personal_name': 'Yang, Li Lin'}],\n",
        " 'base': ['11'],\n",
        " 'collections': [{'primary': 'PREPRINT'}],\n",
        " 'control_number': '2057943',\n",
        " 'control_number_identifier': 'SzGeCERN',\n",
        " 'date_and_time_of_latest_transaction': '20151008213809.0',\n",
        " 'electronic_location_and_access': [{'link_text': ['Preprint'],\n",
        "   'uniform_resource_identifier': ['http://arxiv.org/pdf/1510.01914.pdf']}],\n",
        " 'general_note': [{'general_note': 'Comments: 30 pages, 5 tables, 9 figures'}],\n",
        " 'language_code': [{'language_code_of_text_sound_track_or_separate_title': ['eng']}],\n",
        " 'main_entry_personal_name': {'personal_name': 'Broggio, Alessandro'},\n",
        " 'physical_description': [{'extent': ['30 p']}],\n",
        " 'publication_distribution_imprint': [{'date_of_publication_distribution': ['2015']}],\n",
        " 'report_number': [{'report_number': 'PSI-PR-15-09'},\n",
        "  {'report_number': 'TUM-HEP-1019-15'},\n",
        "  {'report_number': 'ZU-TH 33-15'},\n",
        "  {'report_number': 'DCPT-15-122'},\n",
        "  {'report_number': 'IPPP-15-61'}],\n",
        " 'source_of_acquisition': [{'stock_number': 'arXiv:1510.01914'}],\n",
        " 'subject_added_entry_topical_term': [{'level_of_subject': 'Primary',\n",
        "   'source_of_heading_or_term': 'arXiv',\n",
        "   'thesaurus': 'Source specified in subfield $2',\n",
        "   'topical_term_or_geographic_name_entry_element': 'Particle Physics - Phenomenology'}],\n",
        " 'summary': [{'summary': 'We consider soft gluon emission corrections to the production of a top-antitop pair in association with a Higgs boson at hadron colliders. In particular, we present a soft-gluon resummation formula for this production process and gather all elements needed to evaluate it at next-to-next-to-leading logarithmic order. We employ these results to obtain approximate next-to-next-to-leading order (NNLO) formulas, and implement them in a bespoke parton-level Monte Carlo program which can be used to calculate the total cross section along with arbitrary differential distributions. We use this tool to study the phenomenological impact of the approximate NNLO corrections, finding that they increase the total cross section and the differential distributions which we evaluated in this work.'}],\n",
        " 'system_control_number': [{'system_control_number': 'oai:arXiv.org:1510.01914'},\n",
        "  {'system_control_number': '1396575'}],\n",
        " 'terms_governing_use_and_reproduction_note': [{'jurisdiction': 'arXiv',\n",
        "   'uniform_resource_identifier': ['http://arxiv.org/licenses/nonexclusive-distrib/1.0/']}],\n",
        " 'title_statement': {'title': 'Associated production of a top pair and a Higgs boson beyond NLO'}}"
       ]
      }
     ],
     "prompt_number": 7
    },
    {
     "cell_type": "markdown",
     "metadata": {},
     "source": [
      "### But how can we fix it permanently ?\n",
      "Go back to the [DoJSON_1_main notebook](DoJSON_1_main.ipynb)"
     ]
    }
   ],
   "metadata": {}
  }
 ]
}