{
 "metadata": {
  "name": "",
  "signature": "sha256:62a55aa3089c214adbb2eb9e1b32f9b901c4b7060458b537eb5fc149409d04ae"
 },
 "nbformat": 3,
 "nbformat_minor": 0,
 "worksheets": [
  {
   "cells": [
    {
     "cell_type": "markdown",
     "metadata": {
      "slideshow": {
       "slide_type": "-"
      }
     },
     "source": [
      "Setup\n",
      "=====\n",
      "\n",
      "Create a virtual environment where we will be working:\n",
      "```shell\n",
      "$ mkvirtualenv dojson\n",
      "```\n",
      "\n",
      "Install dojson inside this virtualenv:\n",
      "```shell\n",
      "[dojson]$ pip install dojson\n",
      "```\n",
      "\n",
      "Done"
     ]
    },
    {
     "cell_type": "markdown",
     "metadata": {
      "slideshow": {
       "slide_type": "-"
      }
     },
     "source": [
      "### Disclaimer\n",
      "\n",
      "To be able to run the code presented here make sure you start `ipython notebook` inside the **dojson** virtualenv, **after** installing dependencies (so after the `pip install dojson` part)."
     ]
    },
    {
     "cell_type": "markdown",
     "metadata": {
      "slideshow": {
       "slide_type": "-"
      }
     },
     "source": [
      "Get the data in MARC XML format\n",
      "===============================\n",
      "\n",
      "Export the data from an existing instance of Invenio.\n",
      "Let's try with a single record:\n",
      "```xml\n",
      "<?xml version=\"1.0\" encoding=\"UTF-8\"?>\n",
      "<collection xmlns=\"http://www.loc.gov/MARC21/slim\">\n",
      "<record>\n",
      "  <controlfield tag=\"001\">2057943</controlfield>\n",
      "  <controlfield tag=\"003\">SzGeCERN</controlfield>\n",
      "  <controlfield tag=\"005\">20151008213809.0</controlfield>\n",
      "  <datafield tag=\"035\" ind1=\" \" ind2=\" \">\n",
      "    <subfield code=\"a\">oai:arXiv.org:1510.01914</subfield>\n",
      "    <subfield code=\"u\">http://export.arxiv.org/oai2</subfield>\n",
      "    <subfield code=\"d\">2015-10-08</subfield>\n",
      "    <subfield code=\"h\">2015-10-08T05:20:02Z</subfield>\n",
      "    <subfield code=\"m\">arXiv</subfield>\n",
      "    <subfield code=\"t\">true</subfield>\n",
      "    <subfield code=\"9\">arXiv</subfield>\n",
      "  </datafield>\n",
      "  <datafield tag=\"035\" ind1=\" \" ind2=\" \">\n",
      "    <subfield code=\"9\">Inspire</subfield>\n",
      "    <subfield code=\"a\">1396575</subfield>\n",
      "  </datafield>\n",
      "  <datafield tag=\"037\" ind1=\" \" ind2=\" \">\n",
      "    <subfield code=\"a\">arXiv:1510.01914</subfield>\n",
      "  </datafield>\n",
      "  <datafield tag=\"041\" ind1=\" \" ind2=\" \">\n",
      "    <subfield code=\"a\">eng</subfield>\n",
      "  </datafield>\n",
      "  <datafield tag=\"088\" ind1=\" \" ind2=\" \">\n",
      "    <subfield code=\"a\">PSI-PR-15-09</subfield>\n",
      "  </datafield>\n",
      "  <datafield tag=\"088\" ind1=\" \" ind2=\" \">\n",
      "    <subfield code=\"a\">TUM-HEP-1019-15</subfield>\n",
      "  </datafield>\n",
      "  <datafield tag=\"088\" ind1=\" \" ind2=\" \">\n",
      "    <subfield code=\"a\">ZU-TH 33-15</subfield>\n",
      "  </datafield>\n",
      "  <datafield tag=\"088\" ind1=\" \" ind2=\" \">\n",
      "    <subfield code=\"a\">DCPT-15-122</subfield>\n",
      "  </datafield>\n",
      "  <datafield tag=\"088\" ind1=\" \" ind2=\" \">\n",
      "    <subfield code=\"a\">IPPP-15-61</subfield>\n",
      "  </datafield>\n",
      "  <datafield tag=\"100\" ind1=\" \" ind2=\" \">\n",
      "    <subfield code=\"a\">Broggio, Alessandro</subfield>\n",
      "  </datafield>\n",
      "  <datafield tag=\"245\" ind1=\" \" ind2=\" \">\n",
      "    <subfield code=\"a\">Associated production of a top pair and a Higgs boson beyond NLO</subfield>\n",
      "  </datafield>\n",
      "  <datafield tag=\"260\" ind1=\" \" ind2=\" \">\n",
      "    <subfield code=\"c\">2015</subfield>\n",
      "  </datafield>\n",
      "  <datafield tag=\"269\" ind1=\" \" ind2=\" \">\n",
      "    <subfield code=\"c\">07 Oct 2015</subfield>\n",
      "  </datafield>\n",
      "  <datafield tag=\"300\" ind1=\" \" ind2=\" \">\n",
      "    <subfield code=\"a\">30 p</subfield>\n",
      "  </datafield>\n",
      "  <datafield tag=\"500\" ind1=\" \" ind2=\" \">\n",
      "    <subfield code=\"a\">Comments: 30 pages, 5 tables, 9 figures</subfield>\n",
      "  </datafield>\n",
      "  <datafield tag=\"520\" ind1=\" \" ind2=\" \">\n",
      "    <subfield code=\"a\">We consider soft gluon emission corrections to the production of a top-antitop pair in association with a Higgs boson at hadron colliders. In particular, we present a soft-gluon resummation formula for this production process and gather all elements needed to evaluate it at next-to-next-to-leading logarithmic order. We employ these results to obtain approximate next-to-next-to-leading order (NNLO) formulas, and implement them in a bespoke parton-level Monte Carlo program which can be used to calculate the total cross section along with arbitrary differential distributions. We use this tool to study the phenomenological impact of the approximate NNLO corrections, finding that they increase the total cross section and the differential distributions which we evaluated in this work.</subfield>\n",
      "  </datafield>\n",
      "  <datafield tag=\"540\" ind1=\" \" ind2=\" \">\n",
      "    <subfield code=\"u\">http://arxiv.org/licenses/nonexclusive-distrib/1.0/</subfield>\n",
      "    <subfield code=\"b\">arXiv</subfield>\n",
      "  </datafield>\n",
      "  <datafield tag=\"595\" ind1=\" \" ind2=\" \">\n",
      "    <subfield code=\"a\">LANL EDS</subfield>\n",
      "  </datafield>\n",
      "  <datafield tag=\"650\" ind1=\"1\" ind2=\"7\">\n",
      "    <subfield code=\"a\">Particle Physics - Phenomenology</subfield>\n",
      "    <subfield code=\"2\">arXiv</subfield>\n",
      "  </datafield>\n",
      "  <datafield tag=\"690\" ind1=\"C\" ind2=\" \">\n",
      "    <subfield code=\"a\">PREPRINT</subfield>\n",
      "  </datafield>\n",
      "  <datafield tag=\"695\" ind1=\" \" ind2=\" \">\n",
      "    <subfield code=\"a\">hep-ph</subfield>\n",
      "    <subfield code=\"9\">LANL EDS</subfield>\n",
      "  </datafield>\n",
      "  <datafield tag=\"700\" ind1=\" \" ind2=\" \">\n",
      "    <subfield code=\"a\">Ferroglia, Andrea</subfield>\n",
      "  </datafield>\n",
      "  <datafield tag=\"700\" ind1=\" \" ind2=\" \">\n",
      "    <subfield code=\"a\">Pecjak, Ben D</subfield>\n",
      "  </datafield>\n",
      "  <datafield tag=\"700\" ind1=\" \" ind2=\" \">\n",
      "    <subfield code=\"a\">Signer, Adrian</subfield>\n",
      "  </datafield>\n",
      "  <datafield tag=\"700\" ind1=\" \" ind2=\" \">\n",
      "    <subfield code=\"a\">Yang, Li Lin</subfield>\n",
      "  </datafield>\n",
      "  <datafield tag=\"856\" ind1=\"4\" ind2=\" \">\n",
      "    <subfield code=\"u\">http://arxiv.org/pdf/1510.01914.pdf</subfield>\n",
      "    <subfield code=\"y\">Preprint</subfield>\n",
      "  </datafield>\n",
      "  <datafield tag=\"916\" ind1=\" \" ind2=\" \">\n",
      "    <subfield code=\"s\">n</subfield>\n",
      "    <subfield code=\"w\">201540</subfield>\n",
      "  </datafield>\n",
      "  <datafield tag=\"960\" ind1=\" \" ind2=\" \">\n",
      "    <subfield code=\"a\">11</subfield>\n",
      "  </datafield>\n",
      "  <datafield tag=\"980\" ind1=\" \" ind2=\" \">\n",
      "    <subfield code=\"a\">PREPRINT</subfield>\n",
      "  </datafield>\n",
      "</record>\n",
      "</collection>\n",
      "```"
     ]
    },
    {
     "cell_type": "markdown",
     "metadata": {},
     "source": [
      "Start IPython:\n",
      "```shell\n",
      "$ ipython\n",
      "```"
     ]
    },
    {
     "cell_type": "code",
     "collapsed": false,
     "input": [
      "from dojson.contrib.marc21.utils import create_record, split_blob\n",
      "from dojson.contrib.marc21 import marc21\n",
      "[marc21.do(create_record(data)) for data in split_blob(open('single_record.xml', 'r').read())]"
     ],
     "language": "python",
     "metadata": {
      "slideshow": {
       "slide_type": "-"
      }
     },
     "outputs": [
      {
       "metadata": {},
       "output_type": "pyout",
       "prompt_number": 1,
       "text": [
        "[{'added_entry_personal_name': [{'personal_name': 'Ferroglia, Andrea'},\n",
        "   {'personal_name': 'Pecjak, Ben D'},\n",
        "   {'personal_name': 'Signer, Adrian'},\n",
        "   {'personal_name': 'Yang, Li Lin'}],\n",
        "  'collections': [{'primary': 'PREPRINT'}],\n",
        "  'control_number': '2057943',\n",
        "  'control_number_identifier': 'SzGeCERN',\n",
        "  'date_and_time_of_latest_transaction': '20151008213809.0',\n",
        "  'electronic_location_and_access': [{'link_text': ['Preprint'],\n",
        "    'uniform_resource_identifier': ['http://arxiv.org/pdf/1510.01914.pdf']}],\n",
        "  'general_note': [{'general_note': 'Comments: 30 pages, 5 tables, 9 figures'}],\n",
        "  'language_code': [{'language_code_of_text_sound_track_or_separate_title': ['eng']}],\n",
        "  'main_entry_personal_name': {'personal_name': 'Broggio, Alessandro'},\n",
        "  'physical_description': [{'extent': ['30 p']}],\n",
        "  'publication_distribution_imprint': [{'date_of_publication_distribution': ['2015']}],\n",
        "  'report_number': [{'report_number': 'PSI-PR-15-09'},\n",
        "   {'report_number': 'TUM-HEP-1019-15'},\n",
        "   {'report_number': 'ZU-TH 33-15'},\n",
        "   {'report_number': 'DCPT-15-122'},\n",
        "   {'report_number': 'IPPP-15-61'}],\n",
        "  'source_of_acquisition': [{'stock_number': 'arXiv:1510.01914'}],\n",
        "  'subject_added_entry_topical_term': [{'level_of_subject': 'Primary',\n",
        "    'source_of_heading_or_term': 'arXiv',\n",
        "    'thesaurus': 'Source specified in subfield $2',\n",
        "    'topical_term_or_geographic_name_entry_element': 'Particle Physics - Phenomenology'}],\n",
        "  'summary': [{'summary': 'We consider soft gluon emission corrections to the production of a top-antitop pair in association with a Higgs boson at hadron colliders. In particular, we present a soft-gluon resummation formula for this production process and gather all elements needed to evaluate it at next-to-next-to-leading logarithmic order. We employ these results to obtain approximate next-to-next-to-leading order (NNLO) formulas, and implement them in a bespoke parton-level Monte Carlo program which can be used to calculate the total cross section along with arbitrary differential distributions. We use this tool to study the phenomenological impact of the approximate NNLO corrections, finding that they increase the total cross section and the differential distributions which we evaluated in this work.'}],\n",
        "  'system_control_number': [{'system_control_number': 'oai:arXiv.org:1510.01914'},\n",
        "   {'system_control_number': '1396575'}],\n",
        "  'terms_governing_use_and_reproduction_note': [{'jurisdiction': 'arXiv',\n",
        "    'uniform_resource_identifier': ['http://arxiv.org/licenses/nonexclusive-distrib/1.0/']}],\n",
        "  'title_statement': {'title': 'Associated production of a top pair and a Higgs boson beyond NLO'}}]"
       ]
      }
     ],
     "prompt_number": 1
    },
    {
     "cell_type": "heading",
     "level": 3,
     "metadata": {},
     "source": [
      "What does each of the functions do ?"
     ]
    },
    {
     "cell_type": "markdown",
     "metadata": {},
     "source": [
      "* `split_blob` splits the data into separate records and returns a generator to get each record one by one (you don't actually need it for a single record, you could write the last line like this:"
     ]
    },
    {
     "cell_type": "markdown",
     "metadata": {},
     "source": [
      "```python\n",
      "marc21.do(create_record(open('single_record.xml', 'r').read()))\n",
      "```"
     ]
    },
    {
     "cell_type": "markdown",
     "metadata": {},
     "source": [
      "* `create_record` will create a record object from the XML:"
     ]
    },
    {
     "cell_type": "code",
     "collapsed": false,
     "input": [
      "create_record(open('single_record.xml', 'r').read())"
     ],
     "language": "python",
     "metadata": {},
     "outputs": [
      {
       "metadata": {},
       "output_type": "pyout",
       "prompt_number": 2,
       "text": [
        "{'001': ['2057943'],\n",
        " '003': ['SzGeCERN'],\n",
        " '005': ['20151008213809.0'],\n",
        " u'035__': [{'9': 'arXiv',\n",
        "   'a': 'oai:arXiv.org:1510.01914',\n",
        "   'd': '2015-10-08',\n",
        "   'h': '2015-10-08T05:20:02Z',\n",
        "   'm': 'arXiv',\n",
        "   't': 'true',\n",
        "   'u': 'http://export.arxiv.org/oai2'},\n",
        "  {'9': 'Inspire', 'a': '1396575'}],\n",
        " u'037__': {'a': 'arXiv:1510.01914'},\n",
        " u'041__': {'a': 'eng'},\n",
        " u'088__': [{'a': 'PSI-PR-15-09'},\n",
        "  {'a': 'TUM-HEP-1019-15'},\n",
        "  {'a': 'ZU-TH 33-15'},\n",
        "  {'a': 'DCPT-15-122'},\n",
        "  {'a': 'IPPP-15-61'}],\n",
        " u'100__': {'a': 'Broggio, Alessandro'},\n",
        " u'245__': {'a': 'Associated production of a top pair and a Higgs boson beyond NLO'},\n",
        " u'260__': {'c': '2015'},\n",
        " u'269__': {'c': '07 Oct 2015'},\n",
        " u'300__': {'a': '30 p'},\n",
        " u'500__': {'a': 'Comments: 30 pages, 5 tables, 9 figures'},\n",
        " u'520__': {'a': 'We consider soft gluon emission corrections to the production of a top-antitop pair in association with a Higgs boson at hadron colliders. In particular, we present a soft-gluon resummation formula for this production process and gather all elements needed to evaluate it at next-to-next-to-leading logarithmic order. We employ these results to obtain approximate next-to-next-to-leading order (NNLO) formulas, and implement them in a bespoke parton-level Monte Carlo program which can be used to calculate the total cross section along with arbitrary differential distributions. We use this tool to study the phenomenological impact of the approximate NNLO corrections, finding that they increase the total cross section and the differential distributions which we evaluated in this work.'},\n",
        " u'540__': {'b': 'arXiv',\n",
        "  'u': 'http://arxiv.org/licenses/nonexclusive-distrib/1.0/'},\n",
        " u'595__': {'a': 'LANL EDS'},\n",
        " u'65017': {'2': 'arXiv', 'a': 'Particle Physics - Phenomenology'},\n",
        " u'690C_': {'a': 'PREPRINT'},\n",
        " u'695__': {'9': 'LANL EDS', 'a': 'hep-ph'},\n",
        " u'700__': [{'a': 'Ferroglia, Andrea'},\n",
        "  {'a': 'Pecjak, Ben D'},\n",
        "  {'a': 'Signer, Adrian'},\n",
        "  {'a': 'Yang, Li Lin'}],\n",
        " u'8564_': {'u': 'http://arxiv.org/pdf/1510.01914.pdf', 'y': 'Preprint'},\n",
        " u'916__': {'s': 'n', 'w': '201540'},\n",
        " u'960__': {'a': '11'},\n",
        " u'980__': {'a': 'PREPRINT'}}"
       ]
      }
     ],
     "prompt_number": 2
    },
    {
     "cell_type": "heading",
     "level": 2,
     "metadata": {},
     "source": [
      "How do I know if all MARC fields are mapped to JSON ?"
     ]
    },
    {
     "cell_type": "code",
     "collapsed": false,
     "input": [
      "from dojson.contrib.marc21.utils import create_record, split_blob\n",
      "from dojson.contrib.marc21 import marc21\n",
      "\n",
      "blob = split_blob(open('single_record.xml', 'r').read())\n",
      "\n",
      "#split_blob returns a generator\n",
      "record = create_record(blob.next())\n",
      "\n",
      "marc21.missing(record)"
     ],
     "language": "python",
     "metadata": {},
     "outputs": [
      {
       "metadata": {},
       "output_type": "pyout",
       "prompt_number": 3,
       "text": [
        "[u'695__', u'960__', u'595__', u'269__', u'690C_', u'916__']"
       ]
      }
     ],
     "prompt_number": 3
    },
    {
     "cell_type": "markdown",
     "metadata": {},
     "source": [
      "How can we add the missing mapping ?\n",
      "Open the [DoJSON_2_fixing_missing_fields](DoJSON_2_fixing_missing_fields.ipynb)"
     ]
    }
   ],
   "metadata": {}
  }
 ]
}